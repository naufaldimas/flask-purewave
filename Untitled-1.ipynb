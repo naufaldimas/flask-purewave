{
 "cells": [
  {
   "cell_type": "code",
   "execution_count": 1,
   "metadata": {},
   "outputs": [
    {
     "ename": "ModuleNotFoundError",
     "evalue": "No module named 'denoise'",
     "output_type": "error",
     "traceback": [
      "\u001b[1;31m---------------------------------------------------------------------------\u001b[0m",
      "\u001b[1;31mModuleNotFoundError\u001b[0m                       Traceback (most recent call last)",
      "Cell \u001b[1;32mIn[1], line 1\u001b[0m\n\u001b[1;32m----> 1\u001b[0m \u001b[38;5;28;01mfrom\u001b[39;00m \u001b[38;5;21;01mdenoise\u001b[39;00m \u001b[38;5;28;01mimport\u001b[39;00m AudioDeNoise \n\u001b[0;32m      3\u001b[0m audioDenoiser \u001b[38;5;241m=\u001b[39m AudioDeNoise(inputFile\u001b[38;5;241m=\u001b[39m\u001b[38;5;124m\"\u001b[39m\u001b[38;5;124mBad_1.wav\u001b[39m\u001b[38;5;124m\"\u001b[39m)\n\u001b[0;32m      4\u001b[0m audioDenoiser\u001b[38;5;241m.\u001b[39mdeNoise(outputFile\u001b[38;5;241m=\u001b[39m\u001b[38;5;124m\"\u001b[39m\u001b[38;5;124minput_denoised.wav\u001b[39m\u001b[38;5;124m\"\u001b[39m)\n",
      "\u001b[1;31mModuleNotFoundError\u001b[0m: No module named 'denoise'"
     ]
    }
   ],
   "source": [
    "from denoise import AudioDeNoise \n",
    "\n",
    "audioDenoiser = AudioDeNoise(inputFile=\"Bad_1.wav\")\n",
    "audioDenoiser.deNoise(outputFile=\"input_denoised.wav\")\n",
    "audioDenoiser.generateNoiseProfile(noiseFile=\"input_noise_profile.wav\")"
   ]
  }
 ],
 "metadata": {
  "kernelspec": {
   "display_name": "Python 3",
   "language": "python",
   "name": "python3"
  },
  "language_info": {
   "codemirror_mode": {
    "name": "ipython",
    "version": 3
   },
   "file_extension": ".py",
   "mimetype": "text/x-python",
   "name": "python",
   "nbconvert_exporter": "python",
   "pygments_lexer": "ipython3",
   "version": "3.12.6"
  }
 },
 "nbformat": 4,
 "nbformat_minor": 2
}
